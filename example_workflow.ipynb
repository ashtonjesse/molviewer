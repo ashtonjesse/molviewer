{
 "cells": [
  {
   "cell_type": "code",
   "execution_count": 1,
   "id": "a7afcd83",
   "metadata": {},
   "outputs": [
    {
     "data": {
      "application/vnd.jupyter.widget-view+json": {
       "model_id": "b9524104dd534632bba07181db832a35",
       "version_major": 2,
       "version_minor": 0
      },
      "text/plain": []
     },
     "metadata": {},
     "output_type": "display_data"
    }
   ],
   "source": [
    "from molviewer.molecules import ChemicalMolecule, Macromolecule"
   ]
  },
  {
   "cell_type": "code",
   "execution_count": 2,
   "id": "f6e47e41",
   "metadata": {},
   "outputs": [],
   "source": [
    "protease = Macromolecule(pdbid=\"6LU7\")"
   ]
  },
  {
   "cell_type": "code",
   "execution_count": 3,
   "id": "bd14418f",
   "metadata": {},
   "outputs": [],
   "source": [
    "lopinavir = ChemicalMolecule(chemblid=\"CHEMBL729\")"
   ]
  },
  {
   "cell_type": "code",
   "execution_count": 4,
   "id": "687ed4af",
   "metadata": {},
   "outputs": [],
   "source": [
    "viewer = protease.show()"
   ]
  },
  {
   "cell_type": "code",
   "execution_count": 5,
   "id": "71975734",
   "metadata": {
    "scrolled": true
   },
   "outputs": [
    {
     "data": {
      "application/vnd.jupyter.widget-view+json": {
       "model_id": "7dfc6300a9114063b0602f2a26886dc1",
       "version_major": 2,
       "version_minor": 0
      },
      "text/plain": [
       "NGLWidget()"
      ]
     },
     "metadata": {},
     "output_type": "display_data"
    }
   ],
   "source": [
    "viewer"
   ]
  },
  {
   "cell_type": "code",
   "execution_count": 6,
   "id": "b7a3ebd5",
   "metadata": {},
   "outputs": [],
   "source": [
    "viewer = lopinavir.show(viewer)"
   ]
  },
  {
   "cell_type": "code",
   "execution_count": 7,
   "id": "a33c8416",
   "metadata": {},
   "outputs": [
    {
     "data": {
      "text/plain": [
       "WindowsPath('6LU7.pdb')"
      ]
     },
     "execution_count": 7,
     "metadata": {},
     "output_type": "execute_result"
    }
   ],
   "source": [
    "protease.save('6LU7.pdb')"
   ]
  },
  {
   "cell_type": "code",
   "execution_count": 8,
   "id": "59667d9a",
   "metadata": {},
   "outputs": [
    {
     "data": {
      "text/plain": [
       "WindowsPath('CHEMBL729.sdf')"
      ]
     },
     "execution_count": 8,
     "metadata": {},
     "output_type": "execute_result"
    }
   ],
   "source": [
    "lopinavir.save('CHEMBL729.sdf')"
   ]
  },
  {
   "cell_type": "code",
   "execution_count": null,
   "id": "195e079a",
   "metadata": {},
   "outputs": [],
   "source": []
  }
 ],
 "metadata": {
  "kernelspec": {
   "display_name": "Python 3 (ipykernel)",
   "language": "python",
   "name": "python3"
  },
  "language_info": {
   "codemirror_mode": {
    "name": "ipython",
    "version": 3
   },
   "file_extension": ".py",
   "mimetype": "text/x-python",
   "name": "python",
   "nbconvert_exporter": "python",
   "pygments_lexer": "ipython3",
   "version": "3.10.4"
  }
 },
 "nbformat": 4,
 "nbformat_minor": 5
}
